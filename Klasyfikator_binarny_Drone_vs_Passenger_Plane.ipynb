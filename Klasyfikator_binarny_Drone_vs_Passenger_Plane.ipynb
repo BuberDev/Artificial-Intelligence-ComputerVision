{
  "nbformat": 4,
  "nbformat_minor": 0,
  "metadata": {
    "colab": {
      "provenance": [],
      "authorship_tag": "ABX9TyONuZshhV9GhnS7yLpNKzih",
      "include_colab_link": true
    },
    "kernelspec": {
      "name": "python3",
      "display_name": "Python 3"
    },
    "language_info": {
      "name": "python"
    },
    "accelerator": "TPU"
  },
  "cells": [
    {
      "cell_type": "markdown",
      "metadata": {
        "id": "view-in-github",
        "colab_type": "text"
      },
      "source": [
        "<a href=\"https://colab.research.google.com/github/BuberDev/Artificial-Intelligence-ComputerVision/blob/main/Klasyfikator_binarny_Drone_vs_Passenger_Plane.ipynb\" target=\"_parent\"><img src=\"https://colab.research.google.com/assets/colab-badge.svg\" alt=\"Open In Colab\"/></a>"
      ]
    },
    {
      "cell_type": "markdown",
      "source": [
        "## 1. Import bibliotek"
      ],
      "metadata": {
        "id": "yvd-h5NOt_gv"
      }
    },
    {
      "cell_type": "code",
      "execution_count": 1,
      "metadata": {
        "id": "orwTMrbTtzKX"
      },
      "outputs": [],
      "source": [
        "import pandas as pd\n",
        "import numpy as np\n",
        "import matplotlib.pyplot as plt\n",
        "import os\n",
        "import shutil\n",
        "\n",
        "import plotly.graph_objects as go\n",
        "from sklearn.metrics import confusion_matrix, classification_report\n",
        "\n",
        "from tensorflow.keras.models import Sequential\n",
        "from tensorflow.keras import layers\n",
        "from tensorflow.keras.callbacks import TensorBoard\n",
        "from tensorflow.keras import optimizers\n",
        "from tensorflow.keras.preprocessing import image\n",
        "from tensorflow.keras.preprocessing.image import ImageDataGenerator\n",
        "\n",
        "np.set_printoptions(precision=12, suppress=True, linewidth=120)\n"
      ]
    },
    {
      "cell_type": "markdown",
      "source": [
        "## 2. Zaladowanie danych"
      ],
      "metadata": {
        "id": "Hj0gKtCJwh-O"
      }
    },
    {
      "cell_type": "code",
      "source": [
        "!wget https://storage.googleapis.com/esmartdata-courses-files/ann-course/flying-vehicles.zip"
      ],
      "metadata": {
        "colab": {
          "base_uri": "https://localhost:8080/"
        },
        "id": "DStwQpMowSmr",
        "outputId": "bc21778d-6aee-4c08-d3de-7c4d34fe51c4"
      },
      "execution_count": 5,
      "outputs": [
        {
          "output_type": "stream",
          "name": "stdout",
          "text": [
            "--2023-06-29 20:59:10--  https://storage.googleapis.com/esmartdata-courses-files/ann-course/flying-vehicles.zip\n",
            "Resolving storage.googleapis.com (storage.googleapis.com)... 142.251.161.128, 142.251.172.128, 74.125.126.128, ...\n",
            "Connecting to storage.googleapis.com (storage.googleapis.com)|142.251.161.128|:443... connected.\n",
            "HTTP request sent, awaiting response... 200 OK\n",
            "Length: 1540232238 (1.4G) [application/x-zip-compressed]\n",
            "Saving to: ‘flying-vehicles.zip’\n",
            "\n",
            "flying-vehicles.zip 100%[===================>]   1.43G  33.9MB/s    in 46s     \n",
            "\n",
            "2023-06-29 20:59:56 (32.2 MB/s) - ‘flying-vehicles.zip’ saved [1540232238/1540232238]\n",
            "\n"
          ]
        }
      ]
    },
    {
      "cell_type": "code",
      "source": [
        "!unzip -q flying-vehicles.zip"
      ],
      "metadata": {
        "id": "_ETwV_WcwMbg"
      },
      "execution_count": 6,
      "outputs": []
    },
    {
      "cell_type": "markdown",
      "source": [
        "Przygotowanie zbiorow: treningowego, walidacyjnego i testowego"
      ],
      "metadata": {
        "id": "5Ir0WRAPy7ZS"
      }
    },
    {
      "cell_type": "code",
      "source": [
        "base_dir = './data/planes'\n",
        "raw_no_of_files = {}\n",
        "classes = ['drone', 'fighter-jet', 'helicopter', 'missile', 'passenger-plane', 'rocket']\n",
        "\n",
        "# Ponizszy fragment kodu sprawdzi nam ile mamy zdiec dla poszczegolnych klass (tych wyzej)\n",
        "for dir in classes:\n",
        "  raw_no_of_files[dir] = len(os.listdir(os.path.join(base_dir, dir)))\n",
        "\n",
        "raw_no_of_files.items()"
      ],
      "metadata": {
        "colab": {
          "base_uri": "https://localhost:8080/"
        },
        "id": "OIryrkHCybKO",
        "outputId": "14c8648e-044e-4c35-8698-156a0007b4b0"
      },
      "execution_count": 7,
      "outputs": [
        {
          "output_type": "execute_result",
          "data": {
            "text/plain": [
              "dict_items([('drone', 1332), ('fighter-jet', 1867), ('helicopter', 1387), ('missile', 1334), ('passenger-plane', 1424), ('rocket', 1186)])"
            ]
          },
          "metadata": {},
          "execution_count": 7
        }
      ]
    },
    {
      "cell_type": "code",
      "source": [
        "from IPython.lib.display import exists\n",
        "# Torzymy katalog images\n",
        "data_dir = './images'\n",
        "\n",
        "# Jesli taki katelolg nie istnieje to tworzymy go\n",
        "if not os.path.exists( data_dir):\n",
        "  os.mkdir(data_dir)\n",
        "\n",
        "# Nastepnie utworzymy sobie odpowiednio sciezki do katalogow gdzie bedziemy miec zbory trenigowy, wal i test\n",
        "# Np teraz dzieki metodzie 'join' polaczymy sciezke katalogu 'data_dir' z nowo utworzonym katalogiem 'train'\n",
        "\n",
        "train_dir = os.path.join(data_dir, 'train')\n",
        "valid_dir = os.path.join(data_dir, 'valid')\n",
        "test_dir = os.path.join(data_dir, 'test')\n",
        "\n",
        "# Teraz tworzemy kolejny poziom zagniezdzenia katalogow. Tym razem dla dwoch klass (klasyfikator binarny). Drony i samoloty pasazerskie\n",
        "\n",
        "train_drone_dir = os.path.join(train_dir, 'drone')\n",
        "train_passenger_dir = os.path.join(train_dir, 'passenger')\n",
        "\n",
        "valid_drone_dir = os.path.join(valid_dir, 'drone')\n",
        "valid_passenger_dir = os.path.join(valid_dir, 'passenger')\n",
        "\n",
        "test_drone_dir = os.path.join(test_dir, 'drone')\n",
        "test_passenger_dir = os.path.join(test_dir, 'passenger')\n",
        "\n",
        "# Tworzymy teraz petle ktora przejdzie nam po 3 katalogach z 2 poziomu i jesli jakis nie istnieje to utworzy go\n",
        "for directory in (train_dir, valid_dir, test_dir):\n",
        "  if not os.path.exists(directory):\n",
        "    os.mkdir(directory)\n",
        "\n",
        "# To samo robimy dla tych kolejnych katalogow z 3 poziomu\n",
        "dirs = [train_drone_dir, train_passenger_dir, valid_drone_dir, valid_passenger_dir, test_drone_dir, test_passenger_dir]\n",
        "\n",
        "for dir in dirs:\n",
        "  if not os.path.exists(dir):\n",
        "    os.mkdir(dir)\n",
        ""
      ],
      "metadata": {
        "id": "5-VW3cit0Cks"
      },
      "execution_count": 8,
      "outputs": []
    },
    {
      "cell_type": "code",
      "source": [
        "# Teraz musimy stworzyc pelne sciezki do naszych plikow po niewaz chcemy je przekopiowac\n",
        "# Do zmiennej 'drone_filenames' przypiszemy sobie wylistowanie plikow z katalodu 'drone'\n",
        "\n",
        "drone_filenames = os.listdir(os.path.join(base_dir, 'drone'))\n",
        "passenger_filenames = os.listdir(os.path.join(base_dir, 'passenger-plane'))\n",
        "\n",
        "# Teraz przeprowadzimy proces , w ktorym wybierzemy z tych katalogow tylko te pliki ktorych koncowki/rozszerzenie konczy sie na 'jpg', 'png', 'jpeg'\n",
        "drone_filenames = [fname for fname in drone_filenames if fname.split('.')[1].lower() in ['jpg', 'png', 'jpeg']]\n",
        "passenger_filenames = [fname for fname in passenger_filenames if fname.split('.').lower() in ['jpg', 'png', 'jpeg']]"
      ],
      "metadata": {
        "id": "n1i5-ZTs5iru"
      },
      "execution_count": 9,
      "outputs": []
    },
    {
      "cell_type": "code",
      "source": [
        "# Okreslamy teraz rozmiar danych, ktore bedziemy potrzebowac do naszego modelu\n",
        "size = min(len(drone_filenames), len(passenger_filenames))\n",
        "train_size = int(np.floor(0.7 * size))\n",
        "valid_size = int(np.floor(0.2 * size))\n",
        "test_size = size - train_size - valid_size\n",
        "\n",
        "# To 3 zmienne beda pomocne przy kopiowaniu\n",
        "train_idx = train_size\n",
        "valid_idx = train_size + valid_size\n",
        "test_idx = train_size + valid_size + test_size"
      ],
      "metadata": {
        "id": "hwdYHwRMwEJO"
      },
      "execution_count": 14,
      "outputs": []
    },
    {
      "cell_type": "code",
      "source": [
        "# Kopiujemy pliki\n",
        "\n",
        "for i, fname in enumerate(drone_filenames):\n",
        "    if i <= train_idx:\n",
        "        src = os.path.join(base_dir, 'drone', fname)\n",
        "        dst = os.path.join(train_drone_dir, fname)\n",
        "        shutil.copyfile(src, dst)\n",
        "    elif train_idx < i <= valid_idx:\n",
        "        src = os.path.join(base_dir, 'drone', fname)\n",
        "        dst = os.path.join(valid_drone_dir, fname)\n",
        "        shutil.copyfile(src, dst)\n",
        "    elif valid_idx < i < test_idx:\n",
        "        src = os.path.join(base_dir, 'drone', fname)\n",
        "        dst = os.path.join(test_drone_dir, fname)\n",
        "        shutil.copyfile(src, dst)\n",
        "\n",
        "for i, fname in enumerate(passenger_filenames):\n",
        "    if i <= train_idx:\n",
        "        src = os.path.join(base_dir, 'passenger-plane', fname)\n",
        "        dst = os.path.join(train_passenger_dir, fname)\n",
        "        shutil.copyfile(src, dst)\n",
        "    elif train_idx < i <= valid_idx:\n",
        "        src = os.path.join(base_dir, 'passenger-plane', fname)\n",
        "        dst = os.path.join(valid_passenger_dir, fname)\n",
        "        shutil.copyfile(src, dst)\n",
        "    elif valid_idx < i < test_idx:\n",
        "        src = os.path.join(base_dir, 'passenger-plane', fname)\n",
        "        dst = os.path.join(test_passenger_dir, fname)\n",
        "        shutil.copyfile(src, dst)\n",
        "\n",
        "print('drone - zbiór treningowy', len(os.listdir(train_drone_dir)))\n",
        "print('drone - zbiór walidacyjny', len(os.listdir(valid_drone_dir)))\n",
        "print('drone - zbiór testowy', len(os.listdir(test_drone_dir)))\n",
        "\n",
        "print('passenger - zbiór treningowy', len(os.listdir(train_passenger_dir)))\n",
        "print('passenger - zbiór walidacyjny', len(os.listdir(valid_passenger_dir)))\n",
        "print('passenger - zbiór testowy', len(os.listdir(test_passenger_dir)))\n"
      ],
      "metadata": {
        "colab": {
          "base_uri": "https://localhost:8080/"
        },
        "id": "MqXCoejOB62e",
        "outputId": "049e1f65-2908-454b-8067-302da0f848bd"
      },
      "execution_count": 16,
      "outputs": [
        {
          "output_type": "stream",
          "name": "stdout",
          "text": [
            "drone - zbiór treningowy 933\n",
            "drone - zbiór walidacyjny 399\n",
            "drone - zbiór testowy 133\n",
            "passenger - zbiór treningowy 933\n",
            "passenger - zbiór walidacyjny 491\n",
            "passenger - zbiór testowy 133\n"
          ]
        }
      ]
    },
    {
      "cell_type": "code",
      "source": [],
      "metadata": {
        "id": "eDOdHKmtG7go"
      },
      "execution_count": null,
      "outputs": []
    },
    {
      "cell_type": "code",
      "source": [],
      "metadata": {
        "id": "K55F9MqJGmCT"
      },
      "execution_count": null,
      "outputs": []
    }
  ]
}