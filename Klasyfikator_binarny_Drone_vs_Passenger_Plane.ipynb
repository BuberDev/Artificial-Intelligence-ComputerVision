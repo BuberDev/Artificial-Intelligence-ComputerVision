{
  "nbformat": 4,
  "nbformat_minor": 0,
  "metadata": {
    "colab": {
      "provenance": [],
      "authorship_tag": "ABX9TyOmIdtjybnDM6pUlalB7grV",
      "include_colab_link": true
    },
    "kernelspec": {
      "name": "python3",
      "display_name": "Python 3"
    },
    "language_info": {
      "name": "python"
    },
    "accelerator": "TPU"
  },
  "cells": [
    {
      "cell_type": "markdown",
      "metadata": {
        "id": "view-in-github",
        "colab_type": "text"
      },
      "source": [
        "<a href=\"https://colab.research.google.com/github/BuberDev/Artificial-Intelligence-ComputerVision/blob/main/Klasyfikator_binarny_Drone_vs_Passenger_Plane.ipynb\" target=\"_parent\"><img src=\"https://colab.research.google.com/assets/colab-badge.svg\" alt=\"Open In Colab\"/></a>"
      ]
    },
    {
      "cell_type": "markdown",
      "source": [
        "## 1. Import bibliotek"
      ],
      "metadata": {
        "id": "yvd-h5NOt_gv"
      }
    },
    {
      "cell_type": "code",
      "execution_count": 1,
      "metadata": {
        "id": "orwTMrbTtzKX"
      },
      "outputs": [],
      "source": [
        "import pandas as pd\n",
        "import numpy as np\n",
        "import matplotlib.pyplot as plt\n",
        "import os\n",
        "import shutil\n",
        "\n",
        "import plotly.graph_objects as go\n",
        "from sklearn.metrics import confusion_matrix, classification_report\n",
        "\n",
        "from tensorflow.keras.models import Sequential\n",
        "from tensorflow.keras import layers\n",
        "from tensorflow.keras.callbacks import TensorBoard\n",
        "from tensorflow.keras import optimizers\n",
        "from tensorflow.keras.preprocessing import image\n",
        "from tensorflow.keras.preprocessing.image import ImageDataGenerator\n",
        "\n",
        "np.set_printoptions(precision=12, suppress=True, linewidth=120)\n"
      ]
    },
    {
      "cell_type": "markdown",
      "source": [
        "## 2. Zaladowanie danych"
      ],
      "metadata": {
        "id": "Hj0gKtCJwh-O"
      }
    },
    {
      "cell_type": "code",
      "source": [
        "#!wget https://storage.googleapis.com/esmartdata-courses-files/ann-course/flying-vehicles.zip"
      ],
      "metadata": {
        "colab": {
          "base_uri": "https://localhost:8080/"
        },
        "id": "DStwQpMowSmr",
        "outputId": "0a1f2830-bae3-4153-d2f1-b14a3c8ae1cd"
      },
      "execution_count": 2,
      "outputs": [
        {
          "output_type": "stream",
          "name": "stdout",
          "text": [
            "--2023-06-28 20:53:37--  https://storage.googleapis.com/esmartdata-courses-files/ann-course/flying-vehicles.zip\n",
            "Resolving storage.googleapis.com (storage.googleapis.com)... 142.251.161.128, 142.251.172.128, 74.125.126.128, ...\n",
            "Connecting to storage.googleapis.com (storage.googleapis.com)|142.251.161.128|:443... connected.\n",
            "HTTP request sent, awaiting response... 200 OK\n",
            "Length: 1540232238 (1.4G) [application/x-zip-compressed]\n",
            "Saving to: ‘flying-vehicles.zip’\n",
            "\n",
            "flying-vehicles.zip 100%[===================>]   1.43G  32.5MB/s    in 46s     \n",
            "\n",
            "2023-06-28 20:54:24 (31.7 MB/s) - ‘flying-vehicles.zip’ saved [1540232238/1540232238]\n",
            "\n"
          ]
        }
      ]
    },
    {
      "cell_type": "code",
      "source": [
        "#!unzip -q flying-vehicles.zip"
      ],
      "metadata": {
        "id": "_ETwV_WcwMbg"
      },
      "execution_count": 3,
      "outputs": []
    },
    {
      "cell_type": "markdown",
      "source": [
        "Przygotowanie zbiorow: treningowego, walidacyjnego i testowego"
      ],
      "metadata": {
        "id": "5Ir0WRAPy7ZS"
      }
    },
    {
      "cell_type": "code",
      "source": [
        "base_dir = './data/planes'\n",
        "raw_no_of_files = {}\n",
        "classes = ['drone', 'fighter-jet', 'helicopter', 'missile', 'passenger-plane', 'rocket']\n",
        "\n",
        "# Ponizszy fragment kodu sprawdzi nam ile mamy zdiec dla poszczegolnych klass (tych wyzej)\n",
        "for dir in classes:\n",
        "  raw_no_of_files[dir] = len(os.listdir(os.path.join(base_dir, dir)))\n",
        "\n",
        "raw_no_of_files.items()"
      ],
      "metadata": {
        "colab": {
          "base_uri": "https://localhost:8080/"
        },
        "id": "OIryrkHCybKO",
        "outputId": "9a356f33-6d48-49b4-d7b4-8c95c43752f8"
      },
      "execution_count": 4,
      "outputs": [
        {
          "output_type": "execute_result",
          "data": {
            "text/plain": [
              "dict_items([('drone', 1332), ('fighter-jet', 1867), ('helicopter', 1387), ('missile', 1334), ('passenger-plane', 1424), ('rocket', 1186)])"
            ]
          },
          "metadata": {},
          "execution_count": 4
        }
      ]
    },
    {
      "cell_type": "code",
      "source": [
        "from IPython.lib.display import exists\n",
        "# Torzymy katalog images\n",
        "data_dir = './images'\n",
        "\n",
        "# Jesli taki katelolg nie istnieje to tworzymy go\n",
        "if not os.path.exists( data_dir):\n",
        "  os.mkdir(data_dir)\n",
        "\n",
        "# Nastepnie utworzymy sobie odpowiednio sciezki do katalogow gdzie bedziemy miec zbory trenigowy, wal i test\n",
        "# Np teraz dzieki metodzie 'join' polaczymy sciezke katalogu 'data_dir' z nowo utworzonym katalogiem 'train'\n",
        "\n",
        "train_dir = os.path.join(data_dir, 'train')\n",
        "valid_dir = os.path.join(data_dir, 'valid')\n",
        "test_dir = os.path.join(data_dir, 'test')\n",
        "\n",
        "# Teraz tworzemy kolejny poziom zagniezdzenia katalogow. Tym razem dla dwoch klass (klasyfikator binarny). Drony i samoloty pasazerskie\n",
        "\n",
        "train_drone_dir = os.path.join(train_dir, 'drone')\n",
        "train_passenger_dir = os.path.join(train_dir, 'passenger')\n",
        "\n",
        "valid_drone_dir = os.path.join(valid_dir, 'drone')\n",
        "valid_passenger_dir = os.path.join(valid_dir, 'passenger')\n",
        "\n",
        "test_drone_dir = os.path.join(test_dir, 'drone')\n",
        "test_passenger_dir = os.path.join(test_dir, 'passenger')\n",
        "\n",
        "# Tworzymy teraz petle ktora przejdzie nam po 3 katalogach z 2 poziomu i jesli jakis nie istnieje to utworzy go\n",
        "for directory in (train_dir, valid_dir, test_dir):\n",
        "  if not os.path.exists(directory):\n",
        "    os.mkdir(directory)\n",
        "\n",
        "# To samo robimy dla tych kolejnych katalogow z 3 poziomu\n",
        "dirs = [train_drone_dir, train_passenger_dir, valid_drone_dir, valid_passenger_dir, test_drone_dir, test_passenger_dir]\n",
        "\n",
        "for dir in dirs:\n",
        "  if not os.path.exists(dir):\n",
        "    os.mkdir(dir)\n",
        ""
      ],
      "metadata": {
        "id": "5-VW3cit0Cks"
      },
      "execution_count": 6,
      "outputs": []
    },
    {
      "cell_type": "code",
      "source": [
        "# Teraz musimy stworzyc pelne sciezki do naszych plikow po niewaz chcemy je przekopiowac\n",
        "# Do zmiennej 'drone_filenames' przypiszemy sobie wylistowanie plikow z katalodu 'drone'\n",
        "\n",
        "drone_filenames = os.listdir(os.path.join(base_dir, 'drone'))\n",
        "passenger_filenames = os.listdir(os.path.join(base_dir, 'passenger-plane'))\n",
        "\n",
        "# Teraz przeprowadzimy proces , w ktorym wybierzemy z tych katalogow tylko te pliki ktorych koncowki/rozszerzenie konczy sie na 'jpg', 'png', 'jpeg'\n"
      ],
      "metadata": {
        "id": "n1i5-ZTs5iru"
      },
      "execution_count": null,
      "outputs": []
    },
    {
      "cell_type": "code",
      "source": [],
      "metadata": {
        "id": "hwdYHwRMwEJO"
      },
      "execution_count": 2,
      "outputs": []
    }
  ]
}